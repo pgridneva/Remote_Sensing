{
 "cells": [
  {
   "cell_type": "markdown",
   "metadata": {},
   "source": [
    "# Orbital Calculations Assignment \n",
    "## by Starodumova Polina"
   ]
  },
  {
   "cell_type": "markdown",
   "metadata": {},
   "source": [
    "Ground station and imaging target are located at  55N latitude, 37E longitude.  \n",
    "Reference time or start of modeling scenario time is  2021-02-01 00:00:00 UTC."
   ]
  },
  {
   "cell_type": "code",
   "execution_count": 111,
   "metadata": {},
   "outputs": [],
   "source": [
    "from pyorbital.orbital import Orbital\n",
    "from pyorbital import tlefile\n",
    "\n",
    "from datetime import datetime\n",
    "from datetime import timedelta\n",
    "\n",
    "import numpy as np\n",
    "\n",
    "time_f = '%Y-%m-%d %H:%M:%S'"
   ]
  },
  {
   "cell_type": "markdown",
   "metadata": {},
   "source": [
    "**Task 1**  \n",
    "Satellite position at reference time:"
   ]
  },
  {
   "cell_type": "code",
   "execution_count": 112,
   "metadata": {},
   "outputs": [
    {
     "name": "stdout",
     "output_type": "stream",
     "text": [
      "Longitude is 170.44\n",
      "Latitude is 57.59\n",
      "Altitude is 711.33\n"
     ]
    }
   ],
   "source": [
    "orb = Orbital('TERRA', tle_file='terra.tle')\n",
    "utc = datetime(2021, 2, 1, 0, 0)\n",
    "lon, lat, alt = orb.get_lonlatalt(utc)\n",
    "\n",
    "print('Longitude is {:.2f}'.format(lon))\n",
    "print('Latitude is {:.2f}'.format(lat))\n",
    "print('Altitude is {:.2f}'.format(alt))"
   ]
  },
  {
   "cell_type": "code",
   "execution_count": 113,
   "metadata": {},
   "outputs": [
    {
     "name": "stdout",
     "output_type": "stream",
     "text": [
      "Cartesian coordinates:\n",
      "\n",
      "Position vector is [ 0.31524669 -0.50709861  0.9347007 ]\n",
      "Velosity vector is [ 0.01444024 -0.05863389 -0.03659657]\n"
     ]
    }
   ],
   "source": [
    "pos, vel = orb.get_position(utc)\n",
    "\n",
    "print('Cartesian coordinates:')\n",
    "print()\n",
    "print('Position vector is', pos)\n",
    "print('Velosity vector is', vel)"
   ]
  },
  {
   "cell_type": "code",
   "execution_count": 114,
   "metadata": {},
   "outputs": [
    {
     "name": "stdout",
     "output_type": "stream",
     "text": [
      "Topocentric coordinates:\n",
      "\n",
      "Azimuth is 26.34\n",
      "Elevation is -25.57\n"
     ]
    }
   ],
   "source": [
    "az, el = orb.get_observer_look(utc, 37.0, 55.0, 0.0)\n",
    "\n",
    "print('Topocentric coordinates:')\n",
    "print()\n",
    "print('Azimuth is {:.2f}'.format(az))\n",
    "print('Elevation is {:.2f}'.format(el))"
   ]
  },
  {
   "cell_type": "markdown",
   "metadata": {},
   "source": [
    "**Task 2**  \n",
    "AOS and LOS events for first contact of the satellite with the ground station:"
   ]
  },
  {
   "cell_type": "code",
   "execution_count": 115,
   "metadata": {},
   "outputs": [
    {
     "name": "stdout",
     "output_type": "stream",
     "text": [
      "AOS is  2021-02-01 08:10:47\n",
      "LOS is 2021-02-01 08:20:04\n"
     ]
    }
   ],
   "source": [
    "aos, los, max_e_t = orb.get_next_passes(utc, 24, 37.0, 55.0, 0, horizon=10)[0]\n",
    "\n",
    "print('AOS is ', aos.strftime(time_f))\n",
    "print('LOS is', los.strftime(time_f))"
   ]
  },
  {
   "cell_type": "markdown",
   "metadata": {},
   "source": [
    "**Task 3**  \n",
    "The first pass culmination event time and satellite elevation at the culmination point:"
   ]
  },
  {
   "cell_type": "code",
   "execution_count": 116,
   "metadata": {},
   "outputs": [
    {
     "name": "stdout",
     "output_type": "stream",
     "text": [
      "Maximum elevation time is 2021-02-01 08:15:27\n",
      "Azimuth in first maximum elevation time is 99.69\n",
      "Elevation in first maximum elevation time is 49.70\n"
     ]
    }
   ],
   "source": [
    "az, el = orb.get_observer_look(max_e_t, 37.0, 55.0, 0)\n",
    "\n",
    "print('Maximum elevation time is', max_e_t.strftime(time_f))\n",
    "print('Azimuth in first maximum elevation time is {:.2f}'.format(az))\n",
    "print('Elevation in first maximum elevation time is {:.2f}'.format(el))"
   ]
  },
  {
   "cell_type": "markdown",
   "metadata": {},
   "source": [
    "**Task 4**  "
   ]
  },
  {
   "cell_type": "code",
   "execution_count": 117,
   "metadata": {},
   "outputs": [
    {
     "name": "stdout",
     "output_type": "stream",
     "text": [
      "First 5 imaging possibilities schedule for the target:\n",
      "(imaging incidence angles should be less than 30 deg so max elevation angle should be 60 deg)\n",
      "\n",
      "2021-02-01 19:29:05\n",
      "2021-02-02 08:59:06\n",
      "2021-02-03 19:17:00\n",
      "2021-02-04 08:46:55\n",
      "2021-02-05 19:04:40\n"
     ]
    }
   ],
   "source": [
    "print('First 5 imaging possibilities schedule for the target:')\n",
    "print('(imaging incidence angles should be less than 30 deg so max elevation angle should be 60 deg)')\n",
    "print()\n",
    "\n",
    "time_image = [t[1] for t in orb.get_next_passes(utc, 120, 37.0, 55.0, 0, horizon=60)]\n",
    "\n",
    "for t in time_image:\n",
    "    print(t.strftime(time_f))"
   ]
  },
  {
   "cell_type": "markdown",
   "metadata": {},
   "source": [
    "**Task 5**  \n",
    "Simulate TLE sets for constellation of 4 satellites flying in 4 equally spaced orbital planes using given TLE as a starting point. Calculate first 5 imaging events schedule for the simulated constellation. "
   ]
  },
  {
   "cell_type": "markdown",
   "metadata": {},
   "source": [
    "Creating new TLEs: adding 90 deg (360 deg / 4 sat) to RAAN (Right Ascension of the Ascending Node – line 2 field 4) and changing the checksum digit."
   ]
  },
  {
   "cell_type": "code",
   "execution_count": 119,
   "metadata": {},
   "outputs": [
    {
     "name": "stdout",
     "output_type": "stream",
     "text": [
      "TLE 2 - 3:\n",
      "TERRA\n",
      " 1 25994U 99068A   21029.94985485  .00000066  00000-0  24640-4 0  9999\n",
      " 2 25994  98.1912 196.8209 0001366  97.1343  76.4657 14.57123255123173\n",
      "\n",
      "TERRA\n",
      " 1 25994U 99068A   21029.94985485  .00000066  00000-0  24640-4 0  9999\n",
      " 2 25994  98.1912 286.8209 0001366  97.1343  76.4657 14.57123255123173\n",
      "\n",
      "TERRA\n",
      " 1 25994U 99068A   21029.94985485  .00000066  00000-0  24640-4 0  9999\n",
      " 2 25994  98.1912  16.8209 0001366  97.1343  76.4657 14.57123255123174\n",
      "\n",
      "First 5 imaging possibilities schedule:\n",
      "\n",
      "2021-02-01 01:21:35\n",
      "2021-02-01 12:53:39\n",
      "2021-02-01 14:51:32\n",
      "2021-02-01 19:29:05\n",
      "2021-02-02 07:01:35\n"
     ]
    }
   ],
   "source": [
    "sat1 = Orbital('TERRA', tle_file='terra.tle')\n",
    "sat2 = Orbital('TERRA', tle_file='terra2.tle')\n",
    "sat3 = Orbital('TERRA', tle_file='terra3.tle')\n",
    "sat4 = Orbital('TERRA', tle_file='terra4.tle')\n",
    "\n",
    "time_range = 33 # hours\n",
    "\n",
    "pass1 = sat1.get_next_passes(utc, time_range, 37.0, 55.0, 0, horizon=60)\n",
    "pass2 = sat2.get_next_passes(utc, time_range, 37.0, 55.0, 0, horizon=60)\n",
    "pass3 = sat3.get_next_passes(utc, time_range, 37.0, 55.0, 0, horizon=60)\n",
    "pass4 = sat4.get_next_passes(utc, time_range, 37.0, 55.0, 0, horizon=60)\n",
    "\n",
    "all_pass = pass1 + pass2 + pass3 + pass4\n",
    "all_pass = [t[1] for t in all_pass] \n",
    "all_pass.sort()\n",
    "\n",
    "print('TLE 2 - 3:')\n",
    "f = open('terra2.tle','r')\n",
    "print(*f)\n",
    "f = open('terra3.tle','r')\n",
    "print(*f)\n",
    "f = open('terra4.tle','r')\n",
    "print(*f)\n",
    "\n",
    "print('First 5 imaging possibilities schedule:')\n",
    "print()\n",
    "for t in all_pass:\n",
    "    print(t.strftime(time_f))\n",
    "    \n",
    "    "
   ]
  },
  {
   "cell_type": "code",
   "execution_count": null,
   "metadata": {},
   "outputs": [],
   "source": []
  }
 ],
 "metadata": {
  "kernelspec": {
   "display_name": "Python 3",
   "language": "python",
   "name": "python3"
  },
  "language_info": {
   "codemirror_mode": {
    "name": "ipython",
    "version": 3
   },
   "file_extension": ".py",
   "mimetype": "text/x-python",
   "name": "python",
   "nbconvert_exporter": "python",
   "pygments_lexer": "ipython3",
   "version": "3.7.1"
  }
 },
 "nbformat": 4,
 "nbformat_minor": 2
}
